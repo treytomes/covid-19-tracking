{
 "cells": [
  {
   "cell_type": "markdown",
   "metadata": {},
   "source": [
    "# Data Loader\n",
    "\n",
    "It'll make things look a bit cleaner to load the data in a separate script from the report generator.\n"
   ]
  },
  {
   "cell_type": "code",
   "execution_count": 1,
   "metadata": {},
   "outputs": [],
   "source": [
    "# Step 0: Import all the things!\n",
    "\n",
    "import requests\n",
    "from bs4 import BeautifulSoup\n",
    "import pandas as pd\n",
    "import datetime as dt\n",
    "import geopy\n",
    "from geopy.extra.rate_limiter import RateLimiter\n",
    "from IPython.display import HTML, Markdown, clear_output\n",
    "from ipywidgets import interact, interactive, fixed, interact_manual\n",
    "import ipywidgets as widgets\n",
    "import urllib3\n",
    "\n",
    "%run controls.ipynb\n",
    "\n",
    "def datestamp(date):\n",
    "    \"\"\"Convert a datetime object into a date stamp: MM/DD/YYYY\"\"\"\n",
    "    return f\"{date.month}/{date.day}/{date.year}\"\n"
   ]
  },
  {
   "cell_type": "markdown",
   "metadata": {},
   "source": [
    "# Step 1: Download a copy of the web page that contains the data I want.\n",
    "\n",
    "The state has moved to an arcgis data source.  Looks a lot nicer than an html table, but it's also harder to scrape.  I'll try to figure out how to connect to that data later, but I was able to copy and paste this text from here: https://txdshs.maps.arcgis.com/apps/opsdashboard/index.html#/ed483ecd702b4298ab01e8b9cafc8b83"
   ]
  },
  {
   "cell_type": "code",
   "execution_count": 2,
   "metadata": {},
   "outputs": [],
   "source": [
    "# TODO: Automate this with Selenium.\n",
    "\n",
    "text_copy = \"\"\"\n",
    "\n",
    "\"\"\""
   ]
  },
  {
   "cell_type": "markdown",
   "metadata": {},
   "source": [
    "# Step 2: Clean up the text I copied and convert it into a proper DataFrame object."
   ]
  },
  {
   "cell_type": "code",
   "execution_count": 3,
   "metadata": {},
   "outputs": [
    {
     "data": {
      "text/html": [
       "<div>\n",
       "<style scoped>\n",
       "    .dataframe tbody tr th:only-of-type {\n",
       "        vertical-align: middle;\n",
       "    }\n",
       "\n",
       "    .dataframe tbody tr th {\n",
       "        vertical-align: top;\n",
       "    }\n",
       "\n",
       "    .dataframe thead th {\n",
       "        text-align: right;\n",
       "    }\n",
       "</style>\n",
       "<table border=\"1\" class=\"dataframe\">\n",
       "  <thead>\n",
       "    <tr style=\"text-align: right;\">\n",
       "      <th></th>\n",
       "      <th>county</th>\n",
       "      <th>date</th>\n",
       "      <th>num_cases</th>\n",
       "    </tr>\n",
       "  </thead>\n",
       "  <tbody>\n",
       "    <tr>\n",
       "      <th>0</th>\n",
       "      <td>Harris</td>\n",
       "      <td>4/11/2020</td>\n",
       "      <td>3261</td>\n",
       "    </tr>\n",
       "    <tr>\n",
       "      <th>1</th>\n",
       "      <td>Dallas</td>\n",
       "      <td>4/11/2020</td>\n",
       "      <td>1537</td>\n",
       "    </tr>\n",
       "    <tr>\n",
       "      <th>2</th>\n",
       "      <td>Tarrant</td>\n",
       "      <td>4/11/2020</td>\n",
       "      <td>705</td>\n",
       "    </tr>\n",
       "    <tr>\n",
       "      <th>3</th>\n",
       "      <td>Travis</td>\n",
       "      <td>4/11/2020</td>\n",
       "      <td>690</td>\n",
       "    </tr>\n",
       "    <tr>\n",
       "      <th>4</th>\n",
       "      <td>Bexar</td>\n",
       "      <td>4/11/2020</td>\n",
       "      <td>665</td>\n",
       "    </tr>\n",
       "    <tr>\n",
       "      <th>...</th>\n",
       "      <td>...</td>\n",
       "      <td>...</td>\n",
       "      <td>...</td>\n",
       "    </tr>\n",
       "    <tr>\n",
       "      <th>172</th>\n",
       "      <td>Mitchell</td>\n",
       "      <td>4/11/2020</td>\n",
       "      <td>1</td>\n",
       "    </tr>\n",
       "    <tr>\n",
       "      <th>173</th>\n",
       "      <td>Pecos</td>\n",
       "      <td>4/11/2020</td>\n",
       "      <td>1</td>\n",
       "    </tr>\n",
       "    <tr>\n",
       "      <th>174</th>\n",
       "      <td>Rains</td>\n",
       "      <td>4/11/2020</td>\n",
       "      <td>1</td>\n",
       "    </tr>\n",
       "    <tr>\n",
       "      <th>175</th>\n",
       "      <td>Stephens</td>\n",
       "      <td>4/11/2020</td>\n",
       "      <td>1</td>\n",
       "    </tr>\n",
       "    <tr>\n",
       "      <th>176</th>\n",
       "      <td>Winkler</td>\n",
       "      <td>4/11/2020</td>\n",
       "      <td>1</td>\n",
       "    </tr>\n",
       "  </tbody>\n",
       "</table>\n",
       "<p>177 rows × 3 columns</p>\n",
       "</div>"
      ],
      "text/plain": [
       "       county       date num_cases\n",
       "0      Harris  4/11/2020      3261\n",
       "1      Dallas  4/11/2020      1537\n",
       "2     Tarrant  4/11/2020       705\n",
       "3      Travis  4/11/2020       690\n",
       "4       Bexar  4/11/2020       665\n",
       "..        ...        ...       ...\n",
       "172  Mitchell  4/11/2020         1\n",
       "173     Pecos  4/11/2020         1\n",
       "174     Rains  4/11/2020         1\n",
       "175  Stephens  4/11/2020         1\n",
       "176   Winkler  4/11/2020         1\n",
       "\n",
       "[177 rows x 3 columns]"
      ]
     },
     "execution_count": 3,
     "metadata": {},
     "output_type": "execute_result"
    }
   ],
   "source": [
    "today = dt.datetime.today()\n",
    "today_text = datestamp(today)\n",
    "\n",
    "num_cases = []\n",
    "text_list = text_copy.strip().split('\\n')\n",
    "for n in range(0, len(text_list), 4):\n",
    "    num_cases.append({\n",
    "        \"county\": text_list[n].replace(\" County\", \"\"),\n",
    "        \"date\": today_text,\n",
    "        \"num_cases\": text_list[n + 2].replace(\",\", \"\")\n",
    "    })\n",
    "\n",
    "df_num_cases = pd.DataFrame(num_cases)\n",
    "df_num_cases"
   ]
  },
  {
   "cell_type": "markdown",
   "metadata": {},
   "source": [
    "# Step 3: Add the latitude and longitude to each row."
   ]
  },
  {
   "cell_type": "code",
   "execution_count": 4,
   "metadata": {},
   "outputs": [],
   "source": [
    "locator = geopy.Nominatim(user_agent=\"myGeocoder\")\n",
    "geocode = RateLimiter(locator.geocode, min_delay_seconds=0.5)\n",
    "\n",
    "df_counties = pd.read_csv(\"county_coords.csv\")\n",
    "\n",
    "def get_coordinates(county_name):\n",
    "    global df_counties\n",
    "    exists = len(df_counties.loc[df_counties[\"county\"] == county_name]) != 0\n",
    "    if exists:\n",
    "        return [{\"latitude\":r[0], \"longitude\":r[1]} for r in df_counties.loc[df_counties[\"county\"] == county_name][[\"latitude\", \"longitude\"]].values][0]\n",
    "    else:\n",
    "        point = geocode(county_name + \" County, TX\")\n",
    "        df_county = pd.DataFrame([[county_name, point.latitude, point.longitude]], columns=[\"county\", \"latitude\", \"longitude\"])\n",
    "        df_counties = df_counties.append(df_county)\n",
    "        return {\"latitude\":point.latitude, \"longitude\":point.longitude}\n",
    "\n",
    "df_num_cases[\"point\"] = (df_num_cases[\"county\"]).apply(get_coordinates) #geocode)\n",
    "##df_num_cases[\"point\"] = (df_num_cases[\"county\"]).apply(geocode)\n",
    "\n",
    "# I am substituting (28.082612, -94.936773) for the *official* coordinates of the Gulf of Mexico to better position it on the map.\n",
    "##df_num_cases[['latitude', 'longitude']] = pd.DataFrame([\n",
    "##    (p.latitude, p.longitude) if p != None else (28.082612, -94.936773) # list(locator.geocode(\"Gulf of Mexico\"))[1]\n",
    "##    for p in df_num_cases[\"point\"].tolist()])\n",
    "df_num_cases[['latitude', 'longitude']] = pd.DataFrame([\n",
    "    (p[\"latitude\"], p[\"longitude\"]) if p != None else (28.082612, -94.936773) # list(locator.geocode(\"Gulf of Mexico\"))[1]\n",
    "    for p in df_num_cases[\"point\"].tolist()])\n",
    "df_num_cases = df_num_cases.drop([\"point\"], axis=1)\n",
    "\n",
    "# Save the county coordinates to preserve any new data.\n",
    "df_counties.set_index(\"county\", inplace=True)\n",
    "df_counties.to_csv(\"county_coords.csv\")"
   ]
  },
  {
   "cell_type": "markdown",
   "metadata": {},
   "source": [
    "# Step 4: Concatenate today's data with the full dataset."
   ]
  },
  {
   "cell_type": "code",
   "execution_count": 5,
   "metadata": {},
   "outputs": [],
   "source": [
    "# TODO: Running this more than once will add duplicates to the data.  I can make this nicer by performing some kind of distinct() function on the data.\n",
    "\n",
    "df_num_cases = pd.concat([pd.read_csv(\"data.csv\"), df_num_cases])"
   ]
  },
  {
   "cell_type": "markdown",
   "metadata": {},
   "source": [
    "# Step 5: Save the new dataset."
   ]
  },
  {
   "cell_type": "code",
   "execution_count": 6,
   "metadata": {},
   "outputs": [],
   "source": [
    "df_num_cases.columns = [\"unnamed\", \"county\", \"date\", \"num_cases\", \"latitude\", \"longitude\"]\n",
    "df_num_cases = df_num_cases.drop(columns=[\"unnamed\"], axis=1)\n",
    "\n",
    "# TODO: Always make a backup before running this.\n",
    "df_num_cases.to_csv(\"data.csv\")\n",
    "\n",
    "# Now we are ready to play with it."
   ]
  },
  {
   "cell_type": "code",
   "execution_count": 8,
   "metadata": {},
   "outputs": [],
   "source": [
    "# This chunk of code will fix the date column to make it text-sortable, by zero-padding the pieces of the date.\n",
    "# If this virus continues into 2021 I will need to amend the date column to be YYYYMMDD instead of MM/DD/YYYY.\n",
    "return\n",
    "import pandas as pd\n",
    "\n",
    "def fix_date(date_text):\n",
    "    pieces = date_text.split(\"/\")\n",
    "    pieces[0] = pieces[0].zfill(2)\n",
    "    pieces[1] = pieces[1].zfill(2)\n",
    "    pieces[2] = pieces[2].zfill(2)\n",
    "    return pieces[0] + \"/\" + pieces[1] + \"/\" + pieces[2]\n",
    "\n",
    "df_data = pd.read_csv(\"data.csv\")\n",
    "df_data.columns = [\"unnamed\", \"county\", \"date\", \"num_cases\", \"latitude\", \"longitude\"]\n",
    "df_data = df_data.drop(columns=[\"unnamed\"], axis=1)\n",
    "\n",
    "df_data[\"date\"] = df_data[\"date\"].apply(fix_date)\n",
    "\n",
    "df_data.to_csv(\"data.csv\")"
   ]
  },
  {
   "cell_type": "code",
   "execution_count": null,
   "metadata": {},
   "outputs": [],
   "source": []
  }
 ],
 "metadata": {
  "kernelspec": {
   "display_name": "Python 3",
   "language": "python",
   "name": "python3"
  },
  "language_info": {
   "codemirror_mode": {
    "name": "ipython",
    "version": 3
   },
   "file_extension": ".py",
   "mimetype": "text/x-python",
   "name": "python",
   "nbconvert_exporter": "python",
   "pygments_lexer": "ipython3",
   "version": "3.7.5"
  }
 },
 "nbformat": 4,
 "nbformat_minor": 4
}
